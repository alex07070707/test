{
 "cells": [
  {
   "cell_type": "code",
   "execution_count": 1,
   "metadata": {},
   "outputs": [
    {
     "name": "stdout",
     "output_type": "stream",
     "text": [
      "теплоноситель в литрах 34 в %  56.66666666666667, \n",
      "вода в литрах 26 в прцентах 43.333333333333336, \n",
      "температура замерзания - 20.96666666666667\n"
     ]
    }
   ],
   "source": [
    "term = 34#int(input(\"term system: \"))\n",
    "water = 26#int(input(\"water system: \"))\n",
    "v = (term+water)/100\n",
    "print(f\"\"\"теплоноситель в литрах {term} в %  {term/v}, \n",
    "вода в литрах {water} в прцентах {water/v}, \n",
    "температура замерзания - {(term/v)*0.37}\"\"\")"
   ]
  }
 ],
 "metadata": {
  "kernelspec": {
   "display_name": "Python 3.10.4 64-bit",
   "language": "python",
   "name": "python3"
  },
  "language_info": {
   "codemirror_mode": {
    "name": "ipython",
    "version": 3
   },
   "file_extension": ".py",
   "mimetype": "text/x-python",
   "name": "python",
   "nbconvert_exporter": "python",
   "pygments_lexer": "ipython3",
   "version": "3.10.4"
  },
  "orig_nbformat": 4,
  "vscode": {
   "interpreter": {
    "hash": "f6a3a25c74cd0da2192a41ef485804de5be3e8bfabdab7b7d3444c62efa2594c"
   }
  }
 },
 "nbformat": 4,
 "nbformat_minor": 2
}
